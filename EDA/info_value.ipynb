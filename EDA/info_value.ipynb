{
 "cells": [
  {
   "cell_type": "code",
   "execution_count": null,
   "id": "f28d9319",
   "metadata": {
    "vscode": {
     "languageId": "plaintext"
    }
   },
   "outputs": [],
   "source": [
    "import pandas as pd\n",
    "import numpy as np"
   ]
  },
  {
   "cell_type": "code",
   "execution_count": null,
   "id": "ab6cc372",
   "metadata": {
    "vscode": {
     "languageId": "plaintext"
    }
   },
   "outputs": [],
   "source": [
    "def extract_iv(data, y_col, bins=10):\n",
    "    \n",
    "    df_IV = pd.DataFrame()\n",
    "    cols = data.columns\n",
    "    x_col = cols[~cols.isin([y_col])]\n",
    "    \n",
    "    for i in x_col:\n",
    "        if (data[i].dtype.kind in 'fbci') and (len(np.unique(data[i]))>10):\n",
    "            quartx = pd.qcut(data[i], bins,  duplicates='drop')\n",
    "            cart = pd.DataFrame({'range_x': quartx, 'y': data[y_col]})\n",
    "        else:\n",
    "            cart = pd.DataFrame({'range_x': data[i], 'y': data[y_col]})\n",
    "\n",
    "        cart_sum = cart.groupby(\"range_x\", as_index=False).agg({\"y\": [\"count\", \"sum\"]}) \n",
    "        cart_sum.columns = ['Cutoff', 'Total', 'Events']\n",
    "        \n",
    "        cart_sum['Percent Events'] = np.maximum(cart_sum['Events'], 0.5) / cart_sum['Events'].sum()\n",
    "\n",
    "        cart_sum['Non-Events'] = cart_sum['Total'] - cart_sum['Events']\n",
    "        cart_sum['Percent Non-Events'] = np.maximum(cart_sum['Non-Events'], 0.5) / cart_sum['Non-Events'].sum()\n",
    "\n",
    "        cart_sum['Weight_Evidence'] = np.log(cart_sum['Percent Events']/cart_sum['Percent Non-Events'])\n",
    "        cart_sum['Information_Value'] = cart_sum['Weight_Evidence'] * (cart_sum['Percent Events'] - cart_sum['Percent Non-Events'])\n",
    "        cart_sum.insert(loc=0, column='Feature', value=i)\n",
    "        temp =pd.DataFrame({\"Feature\" : [i], \"Information_Value\" : [cart_sum['Information_Value'].sum()]}, columns = [\"Feature\", \"Information_Value\"])\n",
    "        df_IV=pd.concat([df_IV,temp], axis=0)\n",
    "\n",
    "    return df_IV"
   ]
  }
 ],
 "metadata": {
  "language_info": {
   "name": "python"
  }
 },
 "nbformat": 4,
 "nbformat_minor": 5
}
